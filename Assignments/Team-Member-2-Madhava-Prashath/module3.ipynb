{
 "cells": [
  {
   "cell_type": "code",
   "execution_count": 1,
   "metadata": {},
   "outputs": [
    {
     "name": "stdout",
     "output_type": "stream",
     "text": [
      "Initial list\n",
      "[10, 12, 1, 5]\n",
      "Insert 9 at index 1\n",
      "[10, 9, 12, 1, 5]\n",
      "Remove 1st occurence of 1\n",
      "[10, 9, 12, 5]\n",
      "Append 7\n",
      "[10, 9, 12, 5, 7]\n",
      "Sort the list\n",
      "[5, 7, 9, 10, 12]\n",
      "Pop from list\n",
      "[5, 7, 9, 10]\n",
      "Reverse list\n",
      "[10, 9, 7, 5]\n"
     ]
    }
   ],
   "source": [
    "\"\"\" Consider a list (list = []). You can perform the following commands:\n",
    "insert i e: Insert integer  at position .\n",
    "print: Print the list.\n",
    "remove e: Delete the first occurrence of integer .\n",
    "append e: Insert integer  at the end of the list.\n",
    "sort: Sort the list.\n",
    "pop: Pop the last element from the list.\n",
    "reverse: Reverse the list.\n",
    "Initialize your list and read in the value of  followed by  lines of commands where each command will be of the  types listed above. Iterate through each command in order and perform the corresponding operation on your list.\"\"\"\n",
    "\n",
    "def print_list(list,operation):\n",
    "    print(operation)\n",
    "    print(list)\n",
    "\n",
    "list = [10,12,1,5]\n",
    "print_list(list,\"Initial list\")\n",
    "\n",
    "list.insert(1,9)\n",
    "print_list(list,\"Insert 9 at index 1\")\n",
    "\n",
    "list.remove(1)\n",
    "print_list(list,\"Remove 1st occurence of 1\")\n",
    "\n",
    "list.append(7)\n",
    "print_list(list,\"Append 7\")\n",
    "\n",
    "list.sort()\n",
    "print_list(list,\"Sort the list\")\n",
    "\n",
    "list.pop()\n",
    "print_list(list,\"Pop from list\")\n",
    "\n",
    "list.reverse()\n",
    "print_list(list,\"Reverse list\")"
   ]
  },
  {
   "cell_type": "code",
   "execution_count": 2,
   "metadata": {},
   "outputs": [
    {
     "name": "stdout",
     "output_type": "stream",
     "text": [
      "Please select the operation.\n",
      "a. Add\n",
      "b. Subtract\n",
      "c. Multiply\n",
      "d. Divide\n",
      "Please enter choice (a/ b/ c/ d): b\n",
      "Please enter the first number: 43\n",
      "Please enter the second number: 12\n",
      "43  -  12  =  31\n"
     ]
    }
   ],
   "source": [
    "#Write a Calculator program in Python?\n",
    "\n",
    "def add(P, Q):    \n",
    "   # This function is used for adding two numbers   \n",
    "   return P + Q   \n",
    "def subtract(P, Q):   \n",
    "   # This function is used for subtracting two numbers   \n",
    "   return P - Q   \n",
    "def multiply(P, Q):   \n",
    "   # This function is used for multiplying two numbers   \n",
    "   return P * Q   \n",
    "def divide(P, Q):   \n",
    "   # This function is used for dividing two numbers    \n",
    "   return P / Q    \n",
    "# Now we will take inputs from the user    \n",
    "print (\"Please select the operation.\")    \n",
    "print (\"a. Add\")    \n",
    "print (\"b. Subtract\")    \n",
    "print (\"c. Multiply\")    \n",
    "print (\"d. Divide\")    \n",
    "    \n",
    "choice = input(\"Please enter choice (a/ b/ c/ d): \")    \n",
    "    \n",
    "num_1 = int (input (\"Please enter the first number: \"))    \n",
    "num_2 = int (input (\"Please enter the second number: \"))    \n",
    "    \n",
    "if choice == 'a':    \n",
    "   print (num_1, \" + \", num_2, \" = \", add(num_1, num_2))    \n",
    "    \n",
    "elif choice == 'b':    \n",
    "   print (num_1, \" - \", num_2, \" = \", subtract(num_1, num_2))    \n",
    "    \n",
    "elif choice == 'c':    \n",
    "   print (num_1, \" * \", num_2, \" = \", multiply(num_1, num_2))    \n",
    "elif choice == 'd':    \n",
    "   print (num_1, \" / \", num_2, \" = \", divide(num_1, num_2))    \n",
    "else:    \n",
    "   print (\"This is an invalid input\")    "
   ]
  },
  {
   "cell_type": "code",
   "execution_count": null,
   "metadata": {},
   "outputs": [],
   "source": []
  }
 ],
 "metadata": {
  "kernelspec": {
   "display_name": "Python 3",
   "language": "python",
   "name": "python3"
  },
  "language_info": {
   "codemirror_mode": {
    "name": "ipython",
    "version": 3
   },
   "file_extension": ".py",
   "mimetype": "text/x-python",
   "name": "python",
   "nbconvert_exporter": "python",
   "pygments_lexer": "ipython3",
   "version": "3.7.6"
  }
 },
 "nbformat": 4,
 "nbformat_minor": 4
}
